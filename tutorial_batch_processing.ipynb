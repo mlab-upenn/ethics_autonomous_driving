{
 "cells": [
  {
   "cell_type": "markdown",
   "metadata": {},
   "source": [
    "# Tutorial: Batch Processing\n",
    "\n",
    "This tutorial explains how to use the batch processing script to solve CommonRoad planning problems in parallel. The configuration for batch processing is stored in `batch_processing_config.yaml`. Some of the parameters are explained as follows:\n",
    "* **input_path**: input directory of your intended CommonRoad scenarios.\n",
    "* **output_path**: output directory of CommonRoad solution files.\n",
    "* **overwrite**: whether the existing solution files should be overwritten.\n",
    "* **validate_solution**: check the validity of the solutions with the feasibility checker.\n",
    "* **num_worker_processes**: the number of parallel executions of motion planners.\n",
    "\n",
    "Parameters specified under the `default` block will be applied to all scenarios. If you wish to specify a different paramter for specific scenarios, simply insert a new block with the content of the `default` block copied, and overwrite parameters therein. This new block should be named after the ID of the sceanrio that you wish to aplly the parameters to. Related parameters are explained as follows:\n",
    "* **vehicle_model**: model of the vehicle, valid values: **PM, KS, ST and MB**. Refer to [Vehicle Models](https://gitlab.lrz.de/tum-cps/commonroad-vehicle-models/-/blob/master/vehicleModels_commonRoad.pdf) for more information.\n",
    "* **vehicle_type**: type of the vehicle, valid values: **FORD_ESCORT, BMW_320i and VW_VANAGON**.\n",
    "* **cost_function**: id of cost function. Refer to [Cost Functions](https://gitlab.lrz.de/tum-cps/commonroad-cost-functions/-/blob/master/costFunctions_commonRoad.pdf) for more information.\n",
    "* **planner**: the planner that is used to solve for solutions, possible values are: bfs, dfs, dls, ucs, gbfs, astar, student, student_example\n",
    "* **planning_problem_idx**: index of the planning problem. for cooperative scenarios: 0, 1, 2, ..., otherwise: 0\n",
    "* **max_tree_depth**: maximum depth of the search tree\n",
    "* **timeout**: timeout time for motion planner [s].\n",
    "\n",
    "Note: the paths can either be **relative** or **absolute**.\n",
    "To start the search with batch processing, you can either directly run `SMP/batch_processing/batch_processing_parallel.py` in IDEs (e.g. PyCharm) with `commonroad-search/` marked as sources root, or run the following script."
   ]
  },
  {
   "cell_type": "markdown",
   "metadata": {},
   "source": [
    "## Parallel Batch Processing\n",
    "In parallel batch processing, the search are carried out on multiple threads simultaneously. This reduces the overall time required to test your algorithm on all the given scenarios. One drawback is that it is not very easy to debug your code with parallel batch processing."
   ]
  },
  {
   "cell_type": "code",
   "execution_count": 45,
   "metadata": {},
   "outputs": [
    {
     "name": "stdout",
     "output_type": "stream",
     "text": [
      "The autoreload extension is already loaded. To reload it, use:\n",
      "  %reload_ext autoreload\n"
     ]
    }
   ],
   "source": [
    "%load_ext autoreload\n",
    "%autoreload 2\n",
    "\n",
    "import os\n",
    "import sys\n",
    "\n",
    "# add the folder containing batch processing script into python path\n",
    "sys.path.append(os.path.join(os.getcwd(), \"../../\"))\n",
    "\n",
    "from SMP.batch_processing.batch_processing_parallel import run_parallel_processing\n",
    "from SMP.batch_processing.filter_scenario import print_stats"
   ]
  },
  {
   "cell_type": "code",
   "execution_count": 47,
   "metadata": {},
   "outputs": [
    {
     "name": "stdout",
     "output_type": "stream",
     "text": [
      "Config file loaded and logger created.\n",
      "ScenarioLoader Mode <RANDOM>\n",
      "Processing 3 scenarios:\n",
      "   1 ZAM_Tjunction-1_279_T-1\n",
      "   2 ZAM_Tjunction-1_423_T-1\n",
      "   3 ZAM_Tjunction-1_69_T-1\n",
      "Automaton loaded for vehicle type: BMW_320i\n",
      "Motion planner: astar\n",
      "Number of parallel processes: 2\n",
      "\n",
      "==================================================\n",
      "Scenario being processed:\t         1\n",
      "Solution found:               \t         0\n",
      "Solution found but invalid:   \t         0\n",
      "Solution not found:           \t         0\n",
      "Exception occurred:           \t         0\n",
      "Time out:                     \t         0\n",
      "==================================================\n",
      "\n",
      "==================================================\n",
      "Scenario being processed:\t         2\n",
      "Solution found:               \t         0\n",
      "Solution found but invalid:   \t         0\n",
      "Solution not found:           \t         0\n",
      "Exception occurred:           \t         0\n",
      "Time out:                     \t         0\n",
      "==================================================\n",
      "\n",
      "==================================================\n",
      "Scenario being processed:\t         3\n",
      "Solution found:               \t         0\n",
      "Solution found but invalid:   \t         0\n",
      "Solution not found:           \t         0\n",
      "Exception occurred:           \t         0\n",
      "Time out:                     \t         1\n",
      "==================================================\n",
      "==============================        Search Results        ==============================\n",
      "[ZAM_Tjunction-1_279_T-1       ]\t<TIMEOUT>\t Time [ms]:\t 30000\n",
      "[ZAM_Tjunction-1_423_T-1       ]\t<TIMEOUT>\t Time [ms]:\t 30000\n",
      "[ZAM_Tjunction-1_69_T-1        ]\t<TIMEOUT>\t Time [ms]:\t 30000\n",
      "==============================           Time out           ==============================\n",
      "\t- ZAM_Tjunction-1_279_T-1\n",
      "\t- ZAM_Tjunction-1_69_T-1\n",
      "\n",
      "==============================        Result Summary        ==============================\n",
      "Total number of scenarios:  \t         3\n",
      "Solution found:               \t         0\n",
      "Solution found but invalid:   \t         0\n",
      "Solution not found:           \t         0\n",
      "Exception occurred:           \t         0\n",
      "Time out:                     \t         2\n",
      "Interstate solutions found: 0/0\n",
      "Urban solutions found: 0/3\n",
      "Highway solutions found: 0/0\n",
      "Comfort solutions found: 0/0\n",
      "Critical solutions found: 0/0\n",
      "Evasive solutions found: 0/0\n",
      "Cut in solutions found: 0/0\n",
      "Illegal cut in solutions found: 0/0\n",
      "Intersection solutions found: 0/3\n",
      "Lane change solutions found: 0/0\n",
      "Lane following solutions found: 0/0\n",
      "Merging lanes solutions found: 0/0\n",
      "Multi lane solutions found: 0/0\n",
      "Oncoming traffic solutions found: 0/3\n",
      "Parallel lanes solutions found: 0/0\n",
      "Race track solutions found: 0/0\n",
      "Roundabout solutions found: 0/0\n",
      "Rural solutions found: 0/0\n",
      "Simulated solutions found: 0/0\n",
      "Single lane solutions found: 0/0\n",
      "Slip road solutions found: 0/0\n",
      "Speed limit solutions found: 0/0\n",
      "Traffic jam solutions found: 0/0\n",
      "Turn left solutions found: 0/0\n",
      "Turn right solutions found: 0/0\n",
      "Two lane solutions found: 0/3\n",
      "Emergency braking solutions found: 0/0\n"
     ]
    }
   ],
   "source": [
    "run_parallel_processing()\n",
    "print_stats()"
   ]
  },
  {
   "cell_type": "markdown",
   "metadata": {},
   "source": [
    "## Sequential Batch Processing\n",
    "\n",
    "Alternatively, one can use the `SMP/batch_processing/batch_processing_sequential.py` script to carry out the search sequentially on a single thread. This is a more user-friendly approach if you wish you debug your code in IDES (e.g. creating breakpoints in PyCharm) but still have it run against multiple scenarios."
   ]
  },
  {
   "cell_type": "code",
   "execution_count": 5,
   "metadata": {},
   "outputs": [
    {
     "name": "stdout",
     "output_type": "stream",
     "text": [
      "Config file loaded and logger created.\n",
      "18 scenarios skipped.\n",
      "ScenarioLoader Mode <SPECIFIC>\n",
      "Only run on specified scenarios:\n",
      "Processing 1 scenarios:\n",
      "   1 RUS_Bicycle-5_1_T-1\n",
      "Automaton loaded for vehicle type: BMW_320i\n",
      "Motion planner: astar\n",
      "\n",
      "==================================================\n",
      "Scenario being processed:\t         1\n",
      "Solution found:               \t         1\n",
      "Solution found but invalid:   \t         0\n",
      "Solution not found:           \t         0\n",
      "Exception occurred:           \t         0\n",
      "Time out:                     \t         0\n",
      "==================================================\n",
      "==============================        Search Results        ==============================\n",
      "[RUS_Bicycle-5_1_T-1           ]\t<SUCCESS>\t Time [ms]:\t  1469\t\n",
      "==============================        Solution found        ==============================\n",
      "\t- RUS_Bicycle-5_1_T-1\n",
      "\n",
      "==============================        Result Summary        ==============================\n",
      "Total number of scenarios:  \t         1\n",
      "Solution found:               \t         1\n",
      "Solution found but invalid:   \t         0\n",
      "Solution not found:           \t         0\n",
      "Exception occurred:           \t         0\n",
      "Time out:                     \t         0\n"
     ]
    }
   ],
   "source": [
    "from SMP.batch_processing.batch_processing_sequential import run_sequential_processing\n",
    "run_sequential_processing()"
   ]
  },
  {
   "cell_type": "code",
   "execution_count": null,
   "metadata": {},
   "outputs": [],
   "source": []
  }
 ],
 "metadata": {
  "kernelspec": {
   "display_name": "Python 3",
   "language": "python",
   "name": "python3"
  },
  "language_info": {
   "codemirror_mode": {
    "name": "ipython",
    "version": 3
   },
   "file_extension": ".py",
   "mimetype": "text/x-python",
   "name": "python",
   "nbconvert_exporter": "python",
   "pygments_lexer": "ipython3",
   "version": "3.7.9"
  }
 },
 "nbformat": 4,
 "nbformat_minor": 4
}
